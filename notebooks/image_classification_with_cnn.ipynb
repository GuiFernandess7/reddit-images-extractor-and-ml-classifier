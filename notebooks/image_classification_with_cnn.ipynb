{
 "cells": [
  {
   "cell_type": "code",
   "execution_count": 9,
   "metadata": {},
   "outputs": [],
   "source": [
    "import os\n",
    "import sqlite3\n",
    "import pandas as pd"
   ]
  },
  {
   "cell_type": "code",
   "execution_count": 5,
   "metadata": {},
   "outputs": [],
   "source": [
    "db_path = '../app/data/user_images.db'"
   ]
  },
  {
   "cell_type": "code",
   "execution_count": 7,
   "metadata": {},
   "outputs": [
    {
     "data": {
      "text/plain": [
       "True"
      ]
     },
     "execution_count": 7,
     "metadata": {},
     "output_type": "execute_result"
    }
   ],
   "source": [
    "db_path_exists = os.path.isfile(db_path)\n",
    "db_path_exists"
   ]
  },
  {
   "cell_type": "code",
   "execution_count": null,
   "metadata": {},
   "outputs": [],
   "source": [
    "\n",
    "conn = sqlite3.connect(db_path)\n",
    "\n",
    "query = \"SELECT * FROM user_images\"\n",
    "\n",
    "df = pd.read_sql_query(query, conn)\n",
    "conn.close()"
   ]
  },
  {
   "cell_type": "code",
   "execution_count": 11,
   "metadata": {},
   "outputs": [
    {
     "data": {
      "text/html": [
       "<div>\n",
       "<style scoped>\n",
       "    .dataframe tbody tr th:only-of-type {\n",
       "        vertical-align: middle;\n",
       "    }\n",
       "\n",
       "    .dataframe tbody tr th {\n",
       "        vertical-align: top;\n",
       "    }\n",
       "\n",
       "    .dataframe thead th {\n",
       "        text-align: right;\n",
       "    }\n",
       "</style>\n",
       "<table border=\"1\" class=\"dataframe\">\n",
       "  <thead>\n",
       "    <tr style=\"text-align: right;\">\n",
       "      <th></th>\n",
       "      <th>ts</th>\n",
       "      <th>image_url</th>\n",
       "      <th>created_at</th>\n",
       "      <th>sex</th>\n",
       "    </tr>\n",
       "  </thead>\n",
       "  <tbody>\n",
       "    <tr>\n",
       "      <th>0</th>\n",
       "      <td>1728337740</td>\n",
       "      <td>XXXXXXX</td>\n",
       "      <td>2024-10-07 21:49:00.000000</td>\n",
       "      <td>None</td>\n",
       "    </tr>\n",
       "    <tr>\n",
       "      <th>1</th>\n",
       "      <td>1728343583</td>\n",
       "      <td>XXXXXXX</td>\n",
       "      <td>2024-10-07 23:26:23.000000</td>\n",
       "      <td>None</td>\n",
       "    </tr>\n",
       "    <tr>\n",
       "      <th>2</th>\n",
       "      <td>1728343544</td>\n",
       "      <td>XXXXXXX</td>\n",
       "      <td>2024-10-07 23:25:44.000000</td>\n",
       "      <td>None</td>\n",
       "    </tr>\n",
       "    <tr>\n",
       "      <th>3</th>\n",
       "      <td>1728342428</td>\n",
       "      <td>XXXXXXX</td>\n",
       "      <td>2024-10-07 23:07:08.000000</td>\n",
       "      <td>None</td>\n",
       "    </tr>\n",
       "    <tr>\n",
       "      <th>4</th>\n",
       "      <td>1728341883</td>\n",
       "      <td>XXXXXXX</td>\n",
       "      <td>2024-10-07 22:58:03.000000</td>\n",
       "      <td>None</td>\n",
       "    </tr>\n",
       "    <tr>\n",
       "      <th>...</th>\n",
       "      <td>...</td>\n",
       "      <td>...</td>\n",
       "      <td>...</td>\n",
       "      <td>...</td>\n",
       "    </tr>\n",
       "    <tr>\n",
       "      <th>118</th>\n",
       "      <td>1728349227</td>\n",
       "      <td>XXXXXXX</td>\n",
       "      <td>2024-10-08 01:00:27.000000</td>\n",
       "      <td>None</td>\n",
       "    </tr>\n",
       "    <tr>\n",
       "      <th>119</th>\n",
       "      <td>1728348877</td>\n",
       "      <td>XXXXXXX</td>\n",
       "      <td>2024-10-08 00:54:37.000000</td>\n",
       "      <td>None</td>\n",
       "    </tr>\n",
       "    <tr>\n",
       "      <th>120</th>\n",
       "      <td>1728347953</td>\n",
       "      <td>XXXXXXX</td>\n",
       "      <td>2024-10-08 00:39:13.000000</td>\n",
       "      <td>None</td>\n",
       "    </tr>\n",
       "    <tr>\n",
       "      <th>121</th>\n",
       "      <td>1728347828</td>\n",
       "      <td>XXXXXXX</td>\n",
       "      <td>2024-10-08 00:37:08.000000</td>\n",
       "      <td>None</td>\n",
       "    </tr>\n",
       "    <tr>\n",
       "      <th>122</th>\n",
       "      <td>1728346286</td>\n",
       "      <td>XXXXXXX</td>\n",
       "      <td>2024-10-08 00:11:26.000000</td>\n",
       "      <td>None</td>\n",
       "    </tr>\n",
       "  </tbody>\n",
       "</table>\n",
       "<p>123 rows × 4 columns</p>\n",
       "</div>"
      ],
      "text/plain": [
       "             ts image_url                  created_at   sex\n",
       "0    1728337740   XXXXXXX  2024-10-07 21:49:00.000000  None\n",
       "1    1728343583   XXXXXXX  2024-10-07 23:26:23.000000  None\n",
       "2    1728343544   XXXXXXX  2024-10-07 23:25:44.000000  None\n",
       "3    1728342428   XXXXXXX  2024-10-07 23:07:08.000000  None\n",
       "4    1728341883   XXXXXXX  2024-10-07 22:58:03.000000  None\n",
       "..          ...       ...                         ...   ...\n",
       "118  1728349227   XXXXXXX  2024-10-08 01:00:27.000000  None\n",
       "119  1728348877   XXXXXXX  2024-10-08 00:54:37.000000  None\n",
       "120  1728347953   XXXXXXX  2024-10-08 00:39:13.000000  None\n",
       "121  1728347828   XXXXXXX  2024-10-08 00:37:08.000000  None\n",
       "122  1728346286   XXXXXXX  2024-10-08 00:11:26.000000  None\n",
       "\n",
       "[123 rows x 4 columns]"
      ]
     },
     "metadata": {},
     "output_type": "display_data"
    }
   ],
   "source": [
    "display_df = df.copy()\n",
    "display_df['image_url'] = 'XXXXXXX'\n",
    "display(display_df)"
   ]
  }
 ],
 "metadata": {
  "kernelspec": {
   "display_name": ".venv",
   "language": "python",
   "name": "python3"
  },
  "language_info": {
   "codemirror_mode": {
    "name": "ipython",
    "version": 3
   },
   "file_extension": ".py",
   "mimetype": "text/x-python",
   "name": "python",
   "nbconvert_exporter": "python",
   "pygments_lexer": "ipython3",
   "version": "3.10.12"
  }
 },
 "nbformat": 4,
 "nbformat_minor": 2
}
